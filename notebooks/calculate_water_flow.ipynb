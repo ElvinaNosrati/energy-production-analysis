{
 "cells": [
  {
   "cell_type": "code",
   "execution_count": null,
   "id": "4c8c42d2-e162-461a-8f2e-be7bba4b32d3",
   "metadata": {},
   "outputs": [
    {
     "name": "stdout",
     "output_type": "stream",
     "text": [
      "Water flow calculations saved successfully!\n"
     ]
    }
   ],
   "source": [
    "import pandas as pd\n",
    "\n",
    "WATER_DENSITY = 1000 \n",
    "gravity = 9.81 \n",
    "\n",
    "stations_data = {\n",
    "    \"Amberd1\": {\"H\": 140, \"efficiency\": 0.75},\n",
    "    \"Amberd2\": {\"H\": 295, \"efficiency\": 0.89},\n",
    "    \"Amberd 3\": {\"H\": 305, \"efficiency\": 0.89},\n",
    "}\n",
    "\n",
    "df = pd.read_csv(\"df_daily.csv\", index_col=0, parse_dates=True)\n",
    "\n",
    "df[\"Energy Production (W)\"] = df[\"Energy Production (kWh)\"] * 1000 * 3600\n",
    "\n",
    "def calculate_water_flow(row):\n",
    "    station = row[\"Station\"]\n",
    "    if station in stations_data:\n",
    "        H = stations_data[station][\"H\"]\n",
    "        eta = stations_data[station][\"efficiency\"]\n",
    "        return row[\"Energy Production (W)\"] / (eta * WATER_DENSITY * gravity * H)\n",
    "    return None\n",
    "\n",
    "df[\"Water Flow (m³/s)\"] = df.apply(calculate_water_flow, axis=1)\n",
    "\n",
    "df.to_csv(\"../energy-production-analysis/data/Water_Flow_Calculations.csv\")\n",
    "print(\"Water flow calculations saved successfully!\")"
   ]
  },
  {
   "cell_type": "code",
   "execution_count": null,
   "id": "2a93a998-18b9-4ca1-a9fa-2b9b0610853d",
   "metadata": {},
   "outputs": [],
   "source": []
  }
 ],
 "metadata": {
  "kernelspec": {
   "display_name": "Python 3 (ipykernel)",
   "language": "python",
   "name": "python3"
  },
  "language_info": {
   "codemirror_mode": {
    "name": "ipython",
    "version": 3
   },
   "file_extension": ".py",
   "mimetype": "text/x-python",
   "name": "python",
   "nbconvert_exporter": "python",
   "pygments_lexer": "ipython3",
   "version": "3.11.11"
  }
 },
 "nbformat": 4,
 "nbformat_minor": 5
}
