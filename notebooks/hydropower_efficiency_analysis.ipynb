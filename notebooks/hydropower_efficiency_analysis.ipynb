{
 "cells": [
  {
   "cell_type": "code",
   "execution_count": 35,
   "id": "d7496ef3-8717-44e5-acbe-0fdc385afe09",
   "metadata": {},
   "outputs": [
    {
     "data": {
      "image/png": "[encoded data removed]",
      "text/plain": [
       "<Figure size 600x400 with 1 Axes>"
      ]
     },
     "metadata": {},
     "output_type": "display_data"
    },
    {
     "name": "stdout",
     "output_type": "stream",
     "text": [
      "The most important feature affecting Efficiency is: Water_Flow_m3_s\n",
      "\n",
      "Regression Model Performance:\n",
      "                           Model  R² Train   R² Test\n",
      "               Linear Regression  0.001365 -0.000415\n",
      "Polynomial Regression (Degree 2)  0.001838 -0.000358\n",
      "                   Decision Tree  0.687430  0.117438\n",
      "                   Random Forest  0.646076  0.079674\n"
     ]
    }
   ],
   "source": [
    "import pandas as pd\n",
    "import numpy as np\n",
    "import matplotlib.pyplot as plt\n",
    "import seaborn as sns\n",
    "from sklearn.ensemble import RandomForestRegressor\n",
    "from sklearn.model_selection import train_test_split\n",
    "from sklearn.linear_model import LinearRegression\n",
    "from sklearn.preprocessing import PolynomialFeatures\n",
    "from sklearn.tree import DecisionTreeRegressor\n",
    "\n",
    "stl_df = pd.read_csv(\"stl_energy_production_with_weather.csv\")\n",
    "hp_df = pd.read_csv(\"hp_energy_production_with_weather.csv\")\n",
    "\n",
    "# Efficiency as Energy Production per unit of Water Flow\n",
    "stl_df[\"Efficiency\"] = stl_df[\"Energy Production (kWh)\"] / stl_df[\"Water_Flow_m3_s\"]\n",
    "hp_df[\"Efficiency\"] = hp_df[\"Energy Production (kWh)\"] / hp_df[\"Water_Flow_m3_s\"]\n",
    "\n",
    "stl_df[\"Efficiency\"] = np.where(np.isinf(stl_df[\"Efficiency\"]), np.nan, stl_df[\"Efficiency\"])\n",
    "hp_df[\"Efficiency\"] = np.where(np.isinf(hp_df[\"Efficiency\"]), np.nan, hp_df[\"Efficiency\"])\n",
    "\n",
    "stl_df = stl_df.dropna(subset=[\"Efficiency\"])\n",
    "hp_df = hp_df.dropna(subset=[\"Efficiency\"])\n",
    "\n",
    "stl_df = stl_df[stl_df[\"Efficiency\"] < stl_df[\"Efficiency\"].quantile(0.99)]\n",
    "hp_df = hp_df[hp_df[\"Efficiency\"] < hp_df[\"Efficiency\"].quantile(0.99)]\n",
    "\n",
    "features = ['Water_Flow_m3_s', 'avgtempC', 'totalprecipMM', 'humidity', 'pressureMB']\n",
    "target = 'Efficiency'\n",
    "\n",
    "rf_model = RandomForestRegressor(n_estimators=100, random_state=42)\n",
    "rf_model.fit(stl_df[features], stl_df[target])  \n",
    "\n",
    "importances = rf_model.feature_importances_\n",
    "\n",
    "plt.figure(figsize=(6, 4))\n",
    "sns.barplot(x=features, y=importances)\n",
    "plt.title(\"Feature Importance for Efficiency\")\n",
    "plt.show()\n",
    "\n",
    "most_important_feature = features[importances.argmax()]\n",
    "print(f\"The most important feature affecting Efficiency is: {most_important_feature}\")\n",
    "\n",
    "X = stl_df[['Water_Flow_m3_s']]\n",
    "Y = stl_df['Efficiency']\n",
    "\n",
    "X_train, X_test, Y_train, Y_test = train_test_split(X, Y, test_size=0.2, random_state=42)\n",
    "\n",
    "# Linear Regression\n",
    "linear_model = LinearRegression()\n",
    "linear_model.fit(X_train, Y_train)\n",
    "linear_r2_train = linear_model.score(X_train, Y_train)\n",
    "linear_r2_test = linear_model.score(X_test, Y_test)\n",
    "\n",
    "# Polynomial Regression (Degree 2)\n",
    "poly = PolynomialFeatures(degree=2)\n",
    "X_poly_train = poly.fit_transform(X_train)\n",
    "X_poly_test = poly.transform(X_test)\n",
    "poly_model = LinearRegression()\n",
    "poly_model.fit(X_poly_train, Y_train)\n",
    "poly_r2_train = poly_model.score(X_poly_train, Y_train)\n",
    "poly_r2_test = poly_model.score(X_poly_test, Y_test)\n",
    "\n",
    "# Decision Tree Regression\n",
    "tree_model = DecisionTreeRegressor(random_state=42)\n",
    "tree_model.fit(X_train, Y_train)\n",
    "tree_r2_train = tree_model.score(X_train, Y_train)\n",
    "tree_r2_test = tree_model.score(X_test, Y_test)\n",
    "\n",
    "# Random Forest Regression\n",
    "rf_model = RandomForestRegressor(n_estimators=100, random_state=42)\n",
    "rf_model.fit(X_train, Y_train)\n",
    "rf_r2_train = rf_model.score(X_train, Y_train)\n",
    "rf_r2_test = rf_model.score(X_test, Y_test)\n",
    "\n",
    "#  R² Scores for Train and Test\n",
    "r2_results = pd.DataFrame({\n",
    "    \"Model\": [\"Linear Regression\", \"Polynomial Regression (Degree 2)\", \"Decision Tree\", \"Random Forest\"],\n",
    "    \"R² Train\": [linear_r2_train, poly_r2_train, tree_r2_train, rf_r2_train],\n",
    "    \"R² Test\": [linear_r2_test, poly_r2_test, tree_r2_test, rf_r2_test]\n",
    "})\n",
    "\n",
    "print(\"\\nRegression Model Performance:\")\n",
    "print(r2_results.to_string(index=False))"
   ]
  },
  {
   "cell_type": "code",
   "execution_count": null,
   "id": "2d6b21a3-edb0-4c60-86b6-e92c5aaf99ea",
   "metadata": {},
   "outputs": [],
   "source": []
  }
 ],
 "metadata": {
  "kernelspec": {
   "display_name": "Python 3 (ipykernel)",
   "language": "python",
   "name": "python3"
  },
  "language_info": {
   "codemirror_mode": {
    "name": "ipython",
    "version": 3
   },
   "file_extension": ".py",
   "mimetype": "text/x-python",
   "name": "python",
   "nbconvert_exporter": "python",
   "pygments_lexer": "ipython3",
   "version": "3.13.2"
  }
 },
 "nbformat": 4,
 "nbformat_minor": 5
}
